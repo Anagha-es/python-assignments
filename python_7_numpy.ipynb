{
 "cells": [
  {
   "cell_type": "code",
   "execution_count": 2,
   "id": "7bb75109-6f80-4224-ab07-dde9b00c3dce",
   "metadata": {},
   "outputs": [],
   "source": [
    "import numpy as np"
   ]
  },
  {
   "cell_type": "code",
   "execution_count": 4,
   "id": "a3e1620c-6a72-466a-b226-5785cc3b5ec7",
   "metadata": {},
   "outputs": [],
   "source": [
    "import pandas as pd"
   ]
  },
  {
   "cell_type": "code",
   "execution_count": 6,
   "id": "45c2cbcf-381a-4122-8aee-031468c17710",
   "metadata": {},
   "outputs": [
    {
     "name": "stdout",
     "output_type": "stream",
     "text": [
      "Exercise 1:\n",
      " [[ 1  2  3  4  5]\n",
      " [ 6  7  8  9 10]] \n",
      "\n"
     ]
    }
   ],
   "source": [
    "# Exercise 1: Create and reshape numpy array\n",
    "arr1 = np.arange(1, 11).reshape(2, 5)\n",
    "print(\"Exercise 1:\\n\", arr1, \"\\n\")"
   ]
  },
  {
   "cell_type": "code",
   "execution_count": 8,
   "id": "e383d75e-3026-4169-a413-b4fff8847990",
   "metadata": {},
   "outputs": [
    {
     "name": "stdout",
     "output_type": "stream",
     "text": [
      "Exercise 2:\n",
      " [ 6  7  8  9 10 11 12 13 14 15 16] \n",
      "\n"
     ]
    }
   ],
   "source": [
    "# Exercise 2: Extract elements between the 5th and 15th index\n",
    "arr2 = np.arange(1, 21)\n",
    "extracted_elements = arr2[5:16]\n",
    "print(\"Exercise 2:\\n\", extracted_elements, \"\\n\")"
   ]
  },
  {
   "cell_type": "code",
   "execution_count": 10,
   "id": "9ba9880b-6eac-4c16-b8b3-bd71049ab92d",
   "metadata": {},
   "outputs": [
    {
     "name": "stdout",
     "output_type": "stream",
     "text": [
      "Exercise 3:\n",
      " apples     3\n",
      "bananas    2\n",
      "oranges    1\n",
      "pears      4\n",
      "dtype: int64 \n",
      "\n"
     ]
    }
   ],
   "source": [
    "# Exercise 3: Create and modify Pandas series\n",
    "fruit_series = pd.Series({'apples': 3, 'bananas': 2, 'oranges': 1})\n",
    "fruit_series['pears'] = 4\n",
    "print(\"Exercise 3:\\n\", fruit_series, \"\\n\")"
   ]
  },
  {
   "cell_type": "code",
   "execution_count": 12,
   "id": "0f73550b-2fb4-40d0-a82f-7f1f3225d2a7",
   "metadata": {},
   "outputs": [
    {
     "name": "stdout",
     "output_type": "stream",
     "text": [
      "Exercise 4:\n",
      "       name  age gender\n",
      "0    Alice   25      F\n",
      "1      Bob   34      M\n",
      "2  Charlie   28      M\n",
      "3    David   40      M\n",
      "4     Emma   23      F\n",
      "5    Frank   35      M\n",
      "6    Grace   29      F\n",
      "7    Helen   31      F\n",
      "8      Ian   42      M\n",
      "9     Jack   30      M \n",
      "\n"
     ]
    }
   ],
   "source": [
    "# Exercise 4: Create a dataframe\n",
    "data = {\n",
    "    'name': ['Alice', 'Bob', 'Charlie', 'David', 'Emma', 'Frank', 'Grace', 'Helen', 'Ian', 'Jack'],\n",
    "    'age': [25, 34, 28, 40, 23, 35, 29, 31, 42, 30],\n",
    "    'gender': ['F', 'M', 'M', 'M', 'F', 'M', 'F', 'F', 'M', 'M']\n",
    "}\n",
    "df = pd.DataFrame(data)\n",
    "print(\"Exercise 4:\\n\", df, \"\\n\")\n"
   ]
  },
  {
   "cell_type": "code",
   "execution_count": 14,
   "id": "70054fc5-9fc2-467d-899e-180dec74ef70",
   "metadata": {},
   "outputs": [
    {
     "name": "stdout",
     "output_type": "stream",
     "text": [
      "Exercise 5:\n",
      "       name  age gender  occupation\n",
      "0    Alice   25      F  Programmer\n",
      "1      Bob   34      M     Manager\n",
      "2  Charlie   28      M     Analyst\n",
      "3    David   40      M  Programmer\n",
      "4     Emma   23      F     Manager\n",
      "5    Frank   35      M     Analyst\n",
      "6    Grace   29      F  Programmer\n",
      "7    Helen   31      F     Manager\n",
      "8      Ian   42      M     Analyst\n",
      "9     Jack   30      M  Programmer \n",
      "\n"
     ]
    }
   ],
   "source": [
    "# Exercise 5: Add an occupation column\n",
    "df['occupation'] = ['Programmer', 'Manager', 'Analyst', 'Programmer', 'Manager', 'Analyst', 'Programmer', 'Manager', 'Analyst', 'Programmer']\n",
    "print(\"Exercise 5:\\n\", df, \"\\n\")"
   ]
  },
  {
   "cell_type": "code",
   "execution_count": 16,
   "id": "692088aa-dea9-476a-88d7-77f6e142e88d",
   "metadata": {},
   "outputs": [
    {
     "name": "stdout",
     "output_type": "stream",
     "text": [
      "Exercise 6:\n",
      "     name  age gender  occupation\n",
      "1    Bob   34      M     Manager\n",
      "3  David   40      M  Programmer\n",
      "5  Frank   35      M     Analyst\n",
      "7  Helen   31      F     Manager\n",
      "8    Ian   42      M     Analyst\n",
      "9   Jack   30      M  Programmer \n",
      "\n"
     ]
    }
   ],
   "source": [
    "# Exercise 6: Select rows where age >= 30\n",
    "filtered_df = df[df['age'] >= 30]\n",
    "print(\"Exercise 6:\\n\", filtered_df, \"\\n\")\n"
   ]
  },
  {
   "cell_type": "code",
   "execution_count": 18,
   "id": "9f4a2171-27c1-4e02-a2d9-8f8cb90ee218",
   "metadata": {},
   "outputs": [
    {
     "name": "stdout",
     "output_type": "stream",
     "text": [
      "Exercise 7:\n",
      "       name  age gender  occupation\n",
      "0    Alice   25      F  Programmer\n",
      "1      Bob   34      M     Manager\n",
      "2  Charlie   28      M     Analyst\n",
      "3    David   40      M  Programmer\n",
      "4     Emma   23      F     Manager\n",
      "5    Frank   35      M     Analyst\n",
      "6    Grace   29      F  Programmer\n",
      "7    Helen   31      F     Manager\n",
      "8      Ian   42      M     Analyst\n",
      "9     Jack   30      M  Programmer \n",
      "\n"
     ]
    }
   ],
   "source": [
    "# Exercise 7: Save to CSV and read it back\n",
    "df.to_csv('data.csv', index=False)\n",
    "df_read = pd.read_csv('data.csv')\n",
    "print(\"Exercise 7:\\n\", df_read, \"\\n\")"
   ]
  },
  {
   "cell_type": "code",
   "execution_count": null,
   "id": "61444ba7-aae7-4be5-abcc-b9eb16f9bcfc",
   "metadata": {},
   "outputs": [],
   "source": []
  }
 ],
 "metadata": {
  "kernelspec": {
   "display_name": "Python 3 (ipykernel)",
   "language": "python",
   "name": "python3"
  },
  "language_info": {
   "codemirror_mode": {
    "name": "ipython",
    "version": 3
   },
   "file_extension": ".py",
   "mimetype": "text/x-python",
   "name": "python",
   "nbconvert_exporter": "python",
   "pygments_lexer": "ipython3",
   "version": "3.12.7"
  }
 },
 "nbformat": 4,
 "nbformat_minor": 5
}
